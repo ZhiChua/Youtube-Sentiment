{
 "cells": [
  {
   "cell_type": "code",
   "execution_count": 38,
   "metadata": {},
   "outputs": [],
   "source": [
    "import time\n",
    "from selenium import webdriver\n",
    "from bs4 import BeautifulSoup\n",
    "from selenium.webdriver import Chrome\n",
    "from selenium.webdriver.common.by import By\n",
    "from selenium.webdriver.common.keys import Keys\n",
    "from selenium.webdriver.support.ui import WebDriverWait\n",
    "from selenium.webdriver.support import expected_conditions as EC\n",
    "\n",
    "from vaderSentiment.vaderSentiment import SentimentIntensityAnalyzer\n",
    "import pandas as pd"
   ]
  },
  {
   "cell_type": "markdown",
   "metadata": {},
   "source": [
    "## Retrieves the top 10 most viewed videos"
   ]
  },
  {
   "cell_type": "code",
   "execution_count": 45,
   "metadata": {},
   "outputs": [],
   "source": [
    "def create_link(sorting_method, url):\n",
    "    ''' \n",
    "    Summary: Returns appropriate channel link based on sorting parameters\n",
    "    Parameters:\n",
    "        sorting_method(int): Determines how the videos will be sorted\n",
    "            sorting_method = 1 for sorting by most popular videos\n",
    "            sorting_method = 2 for sorting by new videos\n",
    "            sorting_method = 3 for sorting by old videos\n",
    "    Returns: Channel string with appropriate sort query string\n",
    "    '''\n",
    "    if sorting_method == 1:\n",
    "        return f'{url}/videos?view=0&sort=p&flow=grid'\n",
    "    elif sorting_method == 2:\n",
    "        return f'{url}/videos?view=0&sort=dd&flow=grid' \n",
    "    elif sorting_method == 3:\n",
    "        return f'{url}/videos?view=0&sort=da&flow=grid' \n",
    "\n",
    "def get_top_videos(url, num):\n",
    "    videos=[]\n",
    "    driver = webdriver.Chrome()\n",
    "    driver.get(url)\n",
    "    content = driver.page_source.encode('utf-8').strip()\n",
    "    soup = BeautifulSoup(content,'lxml')\n",
    "    titles = soup.findAll('a',id='video-title')\n",
    "    titles = titles[0: (num)]\n",
    "    for title in titles:\n",
    "         videos.append(title.text)\n",
    "    return videos\n",
    "\n",
    "def print_pretty(list):\n",
    "    for l in list:\n",
    "        print (l)\n",
    "\n",
    "def get_comments(link):\n",
    "    comments=[]\n",
    "    with Chrome() as driver:\n",
    "        wait = WebDriverWait(driver,15)\n",
    "        driver.get(link)\n",
    "\n",
    "        for item in range(6): #by increasing the highest range you can get more content\n",
    "            wait.until(EC.visibility_of_element_located((By.TAG_NAME, \"body\"))).send_keys(Keys.END)\n",
    "            time.sleep(3)\n",
    "\n",
    "        for comment in wait.until(EC.presence_of_all_elements_located((By.CSS_SELECTOR, \"#comment #content-text\"))):\n",
    "            comments.append(comment.text)\n",
    "\n",
    "    comments = comments[0:50]\n",
    "    return comments\n",
    "\n",
    "def vader_sentiment(comment):\n",
    "    sentiment_dict = obj.polarity_scores(comment)\n",
    "    sentiment = sentiment_dict.get('compound')\n",
    "    return sentiment\n",
    "\n"
   ]
  },
  {
   "cell_type": "code",
   "execution_count": 46,
   "metadata": {},
   "outputs": [
    {
     "name": "stdout",
     "output_type": "stream",
     "text": [
      "Basic beatbox patterns for beginners | Tutorial\n",
      "Basic beatbox patterns for beginners 2 | Tutorial\n",
      "Basic beatbox patterns for beginners 3 | Tutorial\n",
      "Basic beatbox patterns for beginners 6 | Tutorial\n",
      "Basic beatbox patterns for beginners 4 | Tutorial\n"
     ]
    }
   ],
   "source": [
    "print_pretty(get_top_videos('https://www.youtube.com/channel/UCktiIeImOu4QzS6fM8gQKPA/videos?view=0&sort=p&flow=grid',5))\n"
   ]
  },
  {
   "cell_type": "code",
   "execution_count": 3,
   "metadata": {},
   "outputs": [],
   "source": [
    "word = input(\"type a word\")\n",
    "print(word)"
   ]
  },
  {
   "cell_type": "code",
   "execution_count": 53,
   "metadata": {},
   "outputs": [],
   "source": [
    "\n"
   ]
  },
  {
   "cell_type": "code",
   "execution_count": 54,
   "metadata": {},
   "outputs": [
    {
     "name": "stdout",
     "output_type": "stream",
     "text": [
      "50\n"
     ]
    }
   ],
   "source": [
    "print(len(comments))"
   ]
  },
  {
   "cell_type": "code",
   "execution_count": null,
   "metadata": {},
   "outputs": [],
   "source": [
    "d = {'comments': [\"I like pizza\", \"I hate food\", 'bloody hell'], 'test': [3, 4,5]}\n",
    "df = pd.DataFrame(data=d)\n",
    "\n",
    "df['sentiment'] = df.apply(lambda  row : vader_sentiment(row['comments']), axis=1)\n",
    "df"
   ]
  }
 ],
 "metadata": {
  "interpreter": {
   "hash": "2f0d2c05af49f843ad96060645dc89a3aba8b682c781f5b3f4dc0003edad14b1"
  },
  "kernelspec": {
   "display_name": "Python 3.9.5 64-bit",
   "language": "python",
   "name": "python3"
  },
  "language_info": {
   "codemirror_mode": {
    "name": "ipython",
    "version": 3
   },
   "file_extension": ".py",
   "mimetype": "text/x-python",
   "name": "python",
   "nbconvert_exporter": "python",
   "pygments_lexer": "ipython3",
   "version": "3.9.5"
  },
  "orig_nbformat": 4
 },
 "nbformat": 4,
 "nbformat_minor": 2
}
