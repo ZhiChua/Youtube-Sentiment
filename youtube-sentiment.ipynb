{
 "cells": [
  {
   "cell_type": "code",
   "execution_count": null,
   "metadata": {},
   "outputs": [],
   "source": [
    "from selenium import webdriver\n",
    "from bs4 import BeautifulSoup"
   ]
  },
  {
   "cell_type": "markdown",
   "metadata": {},
   "source": [
    "## Retrieves the top 10 most viewed videos"
   ]
  },
  {
   "cell_type": "code",
   "execution_count": null,
   "metadata": {},
   "outputs": [],
   "source": [
    "https://www.youtube.com/c/ufc/videos\n",
    "https://www.youtube.com/c/swissbeatbox\n",
    "https://www.youtube.com/c/swissbeatbox/videos?view=0&sort=p&flow=grid\n",
    "https://www.youtube.com/c/swissbeatbox/videos?view=0&sort=da&flow=grid #old\n",
    "https://www.youtube.com/c/swissbeatbox/videos?view=0&sort=dd&flow=grid #new\n",
    "\n",
    "https://www.youtube.com/channel/UCLC2zv6DBJpkBIY6Z4tArRQ\n",
    "https://www.youtube.com/channel/UCLC2zv6DBJpkBIY6Z4tArRQ/videos?view=0&sort=p&flow=grid\n",
    "\n",
    "\n",
    "https://www.youtube.com/channel/UCktiIeImOu4QzS6fM8gQKPA/videos?view=0&sort=p&flow=grid\n",
    "\n",
    "def main(type):\n",
    "    driver = webdriver.Chrome()\n",
    "    link = input(\"Paste a youtube link here\")\n",
    "    driver.get('https://www.youtube.com/channel/UCktiIeImOu4QzS6fM8gQKPA/videos?view=0&sort=p&flow=grid')\n",
    "    content = driver.page_source.encode('utf-8').strip()\n",
    "    soup = BeautifulSoup(content,'lxml')\n",
    "    #print (soup.prettify())\n",
    "    titles = soup.findAll('a',id='video-title')\n",
    "    #print (titles)\n",
    "    for title in titles:\n",
    "         print(title.text)\n",
    "\n",
    "main()"
   ]
  },
  {
   "cell_type": "code",
   "execution_count": 3,
   "metadata": {},
   "outputs": [],
   "source": [
    "word = input(\"type a word\")\n",
    "print(word)"
   ]
  },
  {
   "cell_type": "code",
   "execution_count": null,
   "metadata": {},
   "outputs": [],
   "source": []
  }
 ],
 "metadata": {
  "interpreter": {
   "hash": "2f0d2c05af49f843ad96060645dc89a3aba8b682c781f5b3f4dc0003edad14b1"
  },
  "kernelspec": {
   "display_name": "Python 3.9.5 64-bit",
   "language": "python",
   "name": "python3"
  },
  "language_info": {
   "codemirror_mode": {
    "name": "ipython",
    "version": 3
   },
   "file_extension": ".py",
   "mimetype": "text/x-python",
   "name": "python",
   "nbconvert_exporter": "python",
   "pygments_lexer": "ipython3",
   "version": "3.9.5"
  },
  "orig_nbformat": 4
 },
 "nbformat": 4,
 "nbformat_minor": 2
}
