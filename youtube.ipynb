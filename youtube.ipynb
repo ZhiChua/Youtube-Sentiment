{
 "cells": [
  {
   "cell_type": "code",
   "execution_count": 7,
   "metadata": {},
   "outputs": [
    {
     "name": "stdout",
     "output_type": "stream",
     "text": [
      "ng2o98k983\n"
     ]
    }
   ],
   "source": [
    "link = 'https://www.youtube.com/watch?v=ng2o98k983k&ab_channel=CoreySchafer'\n",
    "video_id = link.split('v=',1)[1][0:10]\n"
   ]
  },
  {
   "cell_type": "code",
   "execution_count": 8,
   "metadata": {},
   "outputs": [],
   "source": [
    "# l>>> while True:\n",
    "# ...     try:\n",
    "# ...         x = int(input(\"Please enter a number: \"))\n",
    "# ...         break\n",
    "# ...     except ValueError:\n",
    "# ...         print(\"Oops!  That was no valid number.  Try again...\")"
   ]
  },
  {
   "cell_type": "code",
   "execution_count": null,
   "metadata": {},
   "outputs": [],
   "source": [
    "# get comments put into a list\n",
    "# feed list into nlp\n",
    "# Average and return score"
   ]
  },
  {
   "cell_type": "code",
   "execution_count": 13,
   "metadata": {},
   "outputs": [
    {
     "name": "stdout",
     "output_type": "stream",
     "text": [
      "ng2o98k983\n"
     ]
    }
   ],
   "source": [
    "link = input(\"Paste a youtube link here\")\n",
    "video_id = link.split('v=',1)[1][0:10]\n",
    "print (video_id)"
   ]
  },
  {
   "cell_type": "code",
   "execution_count": null,
   "metadata": {},
   "outputs": [],
   "source": [
    "from bs4 import BeautifulSoup\n",
    "import requests"
   ]
  }
 ],
 "metadata": {
  "interpreter": {
   "hash": "2f0d2c05af49f843ad96060645dc89a3aba8b682c781f5b3f4dc0003edad14b1"
  },
  "kernelspec": {
   "display_name": "Python 3.9.5 64-bit",
   "language": "python",
   "name": "python3"
  },
  "language_info": {
   "codemirror_mode": {
    "name": "ipython",
    "version": 3
   },
   "file_extension": ".py",
   "mimetype": "text/x-python",
   "name": "python",
   "nbconvert_exporter": "python",
   "pygments_lexer": "ipython3",
   "version": "3.9.5"
  },
  "orig_nbformat": 4
 },
 "nbformat": 4,
 "nbformat_minor": 2
}
